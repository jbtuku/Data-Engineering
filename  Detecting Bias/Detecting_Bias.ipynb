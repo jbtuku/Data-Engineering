{
  "nbformat": 4,
  "nbformat_minor": 0,
  "metadata": {
    "colab": {
      "provenance": [],
      "gpuType": "T4",
      "authorship_tag": "ABX9TyMkUQVzGrpM35ipEOpzVbYe",
      "include_colab_link": true
    },
    "kernelspec": {
      "name": "python3",
      "display_name": "Python 3"
    },
    "language_info": {
      "name": "python"
    },
    "accelerator": "GPU"
  },
  "cells": [
    {
      "cell_type": "markdown",
      "metadata": {
        "id": "view-in-github",
        "colab_type": "text"
      },
      "source": [
        "<a href=\"https://colab.research.google.com/github/jbtuku/Data-Engineering/blob/main/%20Detecting%20Bias/Detecting_Bias.ipynb\" target=\"_parent\"><img src=\"https://colab.research.google.com/assets/colab-badge.svg\" alt=\"Open In Colab\"/></a>"
      ]
    },
    {
      "cell_type": "code",
      "execution_count": 6,
      "metadata": {
        "colab": {
          "base_uri": "https://localhost:8080/"
        },
        "id": "5Dl8yPab7kj1",
        "outputId": "209ce929-3aed-43ae-a338-f5f8466cf119"
      },
      "outputs": [
        {
          "output_type": "stream",
          "name": "stdout",
          "text": [
            "Drive already mounted at /content/drive; to attempt to forcibly remount, call drive.mount(\"/content/drive\", force_remount=True).\n",
            " DataFrame 'stops_df' created successfully.\n",
            "\n",
            "Number of stop events: 93912\n",
            "Number of Vehicles: 158\n",
            "Number of Stop Locations: 4354\n",
            "Minimum Timestamp: 2020-01-01 04:02:29\n",
            "Maximum Timestamp: 2020-01-02 02:37:41\n",
            "Number of stop events with at least one passenger boarding: 19858\n",
            "Percentage of stop events with at least one passenger boarding: 21.15\n"
          ]
        }
      ],
      "source": [
        "from google.colab import drive\n",
        "from bs4 import BeautifulSoup\n",
        "import pandas as pd\n",
        "from datetime import datetime, timedelta\n",
        "\n",
        "# Step 1: Mount your Google Drive\n",
        "drive.mount('/content/drive')\n",
        "\n",
        "# Step 2: Set your actual file path\n",
        "file_path = '/content/drive/MyDrive/trimet_stopevents_2022-12-07.html'  # update if needed\n",
        "\n",
        "# Step 3: Read and parse the HTML file\n",
        "with open(file_path, 'r', encoding='utf-8') as f:\n",
        "    html_content = f.read()\n",
        "\n",
        "soup = BeautifulSoup(html_content, 'html.parser')\n",
        "\n",
        "# Step 4: Extract all tables and corresponding trip_id from h2 headings\n",
        "initial_date = datetime(2020, 1, 1)\n",
        "all_records = []\n",
        "\n",
        "trip_headings = soup.find_all('h2')\n",
        "\n",
        "for heading in trip_headings:\n",
        "    trip_id = heading.text.strip().split()[-1]  # extract the trip number\n",
        "    table = heading.find_next_sibling('table')\n",
        "    if not table:\n",
        "        continue\n",
        "\n",
        "    # Extract header and rows\n",
        "    headers = [th.text.strip() for th in table.find_all('th')]\n",
        "    for row in table.find_all('tr')[1:]:\n",
        "        cells = row.find_all('td')\n",
        "        if len(cells) == len(headers):\n",
        "            record = [cell.text.strip() for cell in cells]\n",
        "            record_dict = dict(zip(headers, record))\n",
        "            record_dict['trip_id'] = trip_id\n",
        "            all_records.append(record_dict)\n",
        "\n",
        "# Step 5: Convert to DataFrame\n",
        "stops_df = pd.DataFrame(all_records)\n",
        "\n",
        "# Step 6: Convert and clean column data types\n",
        "stops_df['arrive_time'] = pd.to_numeric(stops_df['arrive_time'])\n",
        "stops_df['tstamp'] = stops_df['arrive_time'].apply(lambda x: initial_date + timedelta(seconds=x))\n",
        "\n",
        "stops_df['vehicle_number'] = stops_df['vehicle_number'].astype(str)\n",
        "stops_df['trip_id'] = stops_df['trip_id'].astype(str)\n",
        "stops_df['location_id'] = stops_df['location_id'].astype(str)\n",
        "stops_df['ons'] = pd.to_numeric(stops_df['ons'], errors='coerce').fillna(0).astype(int)\n",
        "stops_df['offs'] = pd.to_numeric(stops_df['offs'], errors='coerce').fillna(0).astype(int)\n",
        "\n",
        "# Step 7: Reorder and select columns as required\n",
        "stops_df = stops_df[['trip_id', 'vehicle_number', 'tstamp', 'location_id', 'ons', 'offs']]\n",
        "\n",
        "# Step 8: Output assignment results\n",
        "print(\" DataFrame 'stops_df' created successfully.\")\n",
        "print(f\"\\nNumber of stop events: {len(stops_df)}\")\n",
        "\n",
        "num_vehicles = stops_df['vehicle_number'].nunique()\n",
        "print(f\"Number of Vehicles: {num_vehicles}\")\n",
        "\n",
        "stop_locations = stops_df['location_id'].nunique()\n",
        "print(f\"Number of Stop Locations: {stop_locations}\")\n",
        "\n",
        "min_tstamp = stops_df['tstamp'].min()\n",
        "print(f\"Minimum Timestamp: {min_tstamp}\")\n",
        "\n",
        "max_tstamp = stops_df['tstamp'].max()\n",
        "print(f\"Maximum Timestamp: {max_tstamp}\")\n",
        "\n",
        "boarding_stopevents = (stops_df['ons'] >= 1).sum()\n",
        "print(f\"Number of stop events with at least one passenger boarding: {boarding_stopevents}\")\n",
        "\n",
        "percentage_boarding_stopevents = (boarding_stopevents / len(stops_df)) * 100\n",
        "print(f\"Percentage of stop events with at least one passenger boarding: {percentage_boarding_stopevents:.2f}\")\n"
      ]
    },
    {
      "cell_type": "code",
      "source": [
        "print(\"\\n  For location 6913:\")\n",
        "\n",
        "location_id = '6913'\n",
        "location_df = stops_df[stops_df['location_id'] == location_id]\n",
        "\n",
        "total_stops_at_location = location_df.shape[0]\n",
        "print(f\" Number of stops made at location {location_id}: {total_stops_at_location}\")\n",
        "\n",
        "\n",
        "unique_buses_at_location = location_df['vehicle_number'].nunique()\n",
        "print(f\" Number of different buses that stopped: {unique_buses_at_location}\")\n",
        "\n",
        "\n",
        "boarding_events_at_location = (location_df['ons'] >= 1).sum()\n",
        "percentage_boarding_at_location = (boarding_events_at_location / total_stops_at_location) * 100\n",
        "print(f\" Percentage of stops with at least one boarding: {percentage_boarding_at_location:.2f}%\")\n",
        "\n",
        "print(\"\\n  For vehicle 4062:\")\n",
        "\n",
        "vehicle_number = '4062'\n",
        "vehicle_df = stops_df[stops_df['vehicle_number'] == vehicle_number]\n",
        "\n",
        "\n",
        "total_stops_by_vehicle = vehicle_df.shape[0]\n",
        "print(f\" Number of stops made by vehicle {vehicle_number}: {total_stops_by_vehicle}\")\n",
        "\n",
        "\n",
        "total_boarded_by_vehicle = vehicle_df['ons'].sum()\n",
        "print(f\" Total passengers boarded: {total_boarded_by_vehicle}\")\n",
        "\n",
        "\n",
        "total_deboarded_by_vehicle = vehicle_df['offs'].sum()\n",
        "print(f\" Total passengers deboarded: {total_deboarded_by_vehicle}\")\n",
        "\n",
        "boarding_events_vehicle = (vehicle_df['ons'] >= 1).sum()\n",
        "percentage_boarding_vehicle = (boarding_events_vehicle / total_stops_by_vehicle) * 100\n",
        "print(f\" Percentage of stops with at least one boarding: {percentage_boarding_vehicle:.2f}%\")\n"
      ],
      "metadata": {
        "colab": {
          "base_uri": "https://localhost:8080/"
        },
        "id": "rr5lT4UxBskH",
        "outputId": "faf11c40-8335-4d85-8584-4f6abf0cb611"
      },
      "execution_count": 8,
      "outputs": [
        {
          "output_type": "stream",
          "name": "stdout",
          "text": [
            "\n",
            "  For location 6913:\n",
            " Number of stops made at location 6913: 15\n",
            " Number of different buses that stopped: 5\n",
            " Percentage of stops with at least one boarding: 13.33%\n",
            "\n",
            "  For vehicle 4062:\n",
            " Number of stops made by vehicle 4062: 68\n",
            " Total passengers boarded: 26\n",
            " Total passengers deboarded: 26\n",
            " Percentage of stops with at least one boarding: 16.18%\n"
          ]
        }
      ]
    },
    {
      "cell_type": "code",
      "source": [
        "! pip install scipy"
      ],
      "metadata": {
        "colab": {
          "base_uri": "https://localhost:8080/"
        },
        "id": "57estt2GCneu",
        "outputId": "b4ab136c-ec10-4b37-b91e-961e72773046"
      },
      "execution_count": 9,
      "outputs": [
        {
          "output_type": "stream",
          "name": "stdout",
          "text": [
            "Requirement already satisfied: scipy in /usr/local/lib/python3.11/dist-packages (1.15.3)\n",
            "Requirement already satisfied: numpy<2.5,>=1.23.5 in /usr/local/lib/python3.11/dist-packages (from scipy) (2.0.2)\n"
          ]
        }
      ]
    },
    {
      "cell_type": "code",
      "source": [
        "from scipy.stats import binomtest\n",
        "\n",
        "print(\"\\n  Detect Vehicles with Biased Boarding Data\")\n",
        "\n",
        "# Step 4A: Calculate system-wide boarding rate (from Step 2E)\n",
        "total_events = len(stops_df)\n",
        "total_boarding_events = (stops_df['ons'] >= 1).sum()\n",
        "system_boarding_rate = total_boarding_events / total_events\n",
        "print(f\"\\nPercentage of stop events with boardings: {system_boarding_rate}\")\n",
        "\n",
        "# Step 4A: Analyze each vehicle\n",
        "vehicle_stats = []\n",
        "\n",
        "for vehicle_id, group in stops_df.groupby('vehicle_number'):\n",
        "    n = len(group)  # total stops for this vehicle\n",
        "    k = (group['ons'] >= 1).sum()  # stops with at least 1 boarding\n",
        "    if n == 0:\n",
        "        continue\n",
        "    p_obs = k / n\n",
        "    test_result = binomtest(k, n, system_boarding_rate, alternative='two-sided')\n",
        "\n",
        "    vehicle_stats.append({\n",
        "        'vehicle_number': vehicle_id,\n",
        "        'total_stops': n,\n",
        "        'boarding_stops': k,\n",
        "        'boarding_rate': round(p_obs, 6),\n",
        "        'p_value': test_result.pvalue\n",
        "    })\n",
        "\n",
        "# Step 4B: Create DataFrame and filter by p < 0.05\n",
        "bias_df = pd.DataFrame(vehicle_stats)\n",
        "biased_vehicles = bias_df[bias_df['p_value'] < 0.05].sort_values(by='p_value')\n",
        "\n",
        "# Step 4B: Display formatted table\n",
        "print(\"\\nVehicles with biased boarding data p < 0.05:\\n\")\n",
        "print(biased_vehicles[['vehicle_number', 'total_stops', 'boarding_stops', 'boarding_rate', 'p_value']].to_string(index=False))\n",
        "\n",
        "\n",
        "print(\"\\n Possible reasons for biased 'ons' (boarding) data\")\n",
        "print(\"1. Sensor malfunction: Faulty Automatic Passenger Counters may under- or over-record boardings.\")\n",
        "print(\"2. Route-specific behavior: Buses may be assigned to low-demand or express routes.\")\n",
        "print(\"3. Operational reasons: Vehicle may be used for training, maintenance, or non-revenue service.\")\n"
      ],
      "metadata": {
        "colab": {
          "base_uri": "https://localhost:8080/"
        },
        "id": "mr46Y8L4CrtA",
        "outputId": "e2a07566-b2d5-4cc0-c27d-c8bb1f60debf"
      },
      "execution_count": 12,
      "outputs": [
        {
          "output_type": "stream",
          "name": "stdout",
          "text": [
            "\n",
            "  Detect Vehicles with Biased Boarding Data\n",
            "\n",
            "Percentage of stop events with boardings: 0.21145327540676379\n",
            "\n",
            "Vehicles with biased boarding data p < 0.05:\n",
            "\n",
            "vehicle_number  total_stops  boarding_stops  boarding_rate  p_value\n",
            "          3915          662             115       0.173716 0.017249\n",
            "          3530          576             100       0.173611 0.028077\n",
            "          3963          405              68       0.167901 0.033011\n",
            "          3733          709             128       0.180536 0.043074\n",
            "          3634          409              70       0.171149 0.045715\n",
            "\n",
            " Possible reasons for biased 'ons' (boarding) data\n",
            "1. Sensor malfunction: Faulty Automatic Passenger Counters may under- or over-record boardings.\n",
            "2. Route-specific behavior: Buses may be assigned to low-demand or express routes.\n",
            "3. Operational reasons: Vehicle may be used for training, maintenance, or non-revenue service.\n"
          ]
        }
      ]
    },
    {
      "cell_type": "code",
      "source": [
        "from google.colab import drive\n",
        "import pandas as pd\n",
        "from scipy.stats import ttest_ind\n",
        "\n",
        "# Step 1: Mount Google Drive\n",
        "drive.mount('/content/drive')\n",
        "\n",
        "# Step 2: Load the Excel file (update path if needed)\n",
        "relpos_path = '/content/drive/MyDrive/trimet_relpos_2022-12-07.csv'  # Ensure correct extension\n",
        "df = pd.read_csv(relpos_path)\n",
        "\n",
        "# Step 3: Normalize column names\n",
        "df.columns = [col.lower().strip() for col in df.columns]\n",
        "print(\"\\n Columns in RELPOS dataset:\", df.columns.tolist())\n",
        "\n",
        "# Adjust column names if needed\n",
        "vehicle_col = 'vehicle_number'  # update if your column is named differently\n",
        "relpos_col = 'relpos'\n",
        "\n",
        "# Step 4: Drop missing values\n",
        "df = df.dropna(subset=[vehicle_col, relpos_col])\n",
        "\n",
        "# Step 5: Get system-wide RELPOS values\n",
        "global_relpos = df[relpos_col].astype(float).values\n",
        "\n",
        "# Step 6: Analyze each vehicle\n",
        "biased_vehicles = []\n",
        "\n",
        "for vehicle_id, group in df.groupby(vehicle_col):\n",
        "    vehicle_relpos = group[relpos_col].astype(float).values\n",
        "    if len(vehicle_relpos) < 2:\n",
        "        continue  # skip if not enough data\n",
        "    t_stat, p_val = ttest_ind(vehicle_relpos, global_relpos, equal_var=False)\n",
        "\n",
        "    if p_val < 0.005:\n",
        "        biased_vehicles.append({\n",
        "            'vehicle_id': vehicle_id,\n",
        "            'sample_size': len(vehicle_relpos),\n",
        "            'mean_relpos': round(vehicle_relpos.mean(), 6),\n",
        "            'p_value': round(p_val, 6)\n",
        "        })\n",
        "\n",
        "# Step 7: Display results\n",
        "biased_df = pd.DataFrame(biased_vehicles).sort_values(by='p_value')\n",
        "\n",
        "print(\"\\n Vehicles with biased RELPOS data (p < 0.005):\")\n",
        "if not biased_df.empty:\n",
        "    print(biased_df.to_string(index=False))\n",
        "else:\n",
        "    print(\"No vehicles found with significant RELPOS bias.\")\n",
        "\n",
        "# Step 8: Print causes\n",
        "print(\"\\n Possible causes of biased RELPOS data:\")\n",
        "print(\"1. GPS signal obstruction: tall buildings, tunnels, or overpasses can interfere with GPS accuracy\")\n",
        "print(\"2. Map matching or routing errors: discrepancies between actual road geometry and the route model can create consistent offsets.\")\n",
        "print(\"3. Sensor misalignment or vehicle-specific hardware calibration issues, causing GPS antennas to report offset positions relative to the centerline.\")\n"
      ],
      "metadata": {
        "colab": {
          "base_uri": "https://localhost:8080/"
        },
        "id": "KeheJx2bEndc",
        "outputId": "d0721f4a-136d-4e86-8471-d3189881f6fa"
      },
      "execution_count": 15,
      "outputs": [
        {
          "output_type": "stream",
          "name": "stdout",
          "text": [
            "Drive already mounted at /content/drive; to attempt to forcibly remount, call drive.mount(\"/content/drive\", force_remount=True).\n",
            "\n",
            " Columns in RELPOS dataset: ['timestamp', 'vehicle_number', 'relpos']\n",
            "\n",
            " Vehicles with biased RELPOS data (p < 0.005):\n",
            " vehicle_id  sample_size  mean_relpos  p_value\n",
            "       3638        10968     6.033647 0.000000\n",
            "       3804        12491     5.977343 0.000000\n",
            "       4305         5770    -6.171029 0.000000\n",
            "       4024        12119    -0.180383 0.004008\n",
            "\n",
            " Possible causes of biased RELPOS data:\n",
            "1. GPS signal obstruction: tall buildings, tunnels, or overpasses can interfere with GPS accuracy\n",
            "2. Map matching or routing errors: discrepancies between actual road geometry and the route model can create consistent offsets.\n",
            "3. Sensor misalignment or vehicle-specific hardware calibration issues, causing GPS antennas to report offset positions relative to the centerline.\n"
          ]
        }
      ]
    },
    {
      "cell_type": "code",
      "source": [
        "from scipy.stats import chi2_contingency\n",
        "import pandas as pd\n",
        "\n",
        "print(\"\\n Step: Detect Vehicles with Biased Boarding vs Deboarding (Chi-Square Test)\")\n",
        "\n",
        "# Step 1: System-wide totals\n",
        "total_ons = stops_df['ons'].sum()\n",
        "total_offs = stops_df['offs'].sum()\n",
        "print(f\"System Total ONs: {total_ons}, OFFs: {total_offs}\")\n",
        "\n",
        "# Step 2: Per-vehicle analysis\n",
        "chi_results = []\n",
        "\n",
        "for vehicle_id, group in stops_df.groupby('vehicle_number'):\n",
        "    vehicle_ons = group['ons'].sum()\n",
        "    vehicle_offs = group['offs'].sum()\n",
        "\n",
        "    # Construct 2x2 contingency table:\n",
        "    # [[vehicle_ons, vehicle_offs],\n",
        "    #  [other_ons, other_offs]]\n",
        "    other_ons = total_ons - vehicle_ons\n",
        "    other_offs = total_offs - vehicle_offs\n",
        "\n",
        "    contingency_table = [[vehicle_ons, vehicle_offs],\n",
        "                         [other_ons, other_offs]]\n",
        "\n",
        "    chi2, p, dof, expected = chi2_contingency(contingency_table)\n",
        "\n",
        "    if p < 0.05:\n",
        "        chi_results.append({\n",
        "            'vehicle_id': vehicle_id,\n",
        "            'vehicle_ons': vehicle_ons,\n",
        "            'vehicle_offs': vehicle_offs,\n",
        "            'p_value': round(p, 6)\n",
        "        })\n",
        "\n",
        "# Step 3: Show results\n",
        "biased_chi_df = pd.DataFrame(chi_results).sort_values(by='p_value')\n",
        "\n",
        "print(\"\\n Vehicles with biased ons/offs proportions (p < 0.05):\")\n",
        "if not biased_chi_df.empty:\n",
        "    print(biased_chi_df.to_string(index=False))\n",
        "else:\n",
        "    print(\"No vehicles with significant boarding/deboarding bias found.\")\n",
        "\n",
        "# Step 4: Print possible causes\n",
        "print(\"\\n Possible causes of biased ons/offs proportions:\")\n",
        "print(\"1. Riders may board a vehicle but transfer or exit on a different route/bus, skewing boarding vs deboarding counts.\")\n",
        "print(\"2. Some doors (like rear exits) may lack APC sensors, undercounting deboarding events.\")\n",
        "print(\"3. Sensor malfunction or calibration issues may over-record boardings or under-record exits.\")\n"
      ],
      "metadata": {
        "colab": {
          "base_uri": "https://localhost:8080/"
        },
        "id": "9PaERCsmGXH8",
        "outputId": "d65f7767-73f7-421f-b9f2-9de734d6c2f0"
      },
      "execution_count": 16,
      "outputs": [
        {
          "output_type": "stream",
          "name": "stdout",
          "text": [
            "\n",
            " Step: Detect Vehicles with Biased Boarding vs Deboarding (Chi-Square Test)\n",
            "System Total ONs: 36373, OFFs: 36992\n",
            "\n",
            " Vehicles with biased ons/offs proportions (p < 0.05):\n",
            "vehicle_id  vehicle_ons  vehicle_offs  p_value\n",
            "      3576          379           322 0.018783\n",
            "      3056          517           457 0.030134\n",
            "\n",
            " Possible causes of biased ons/offs proportions:\n",
            "1. Riders may board a vehicle but transfer or exit on a different route/bus, skewing boarding vs deboarding counts.\n",
            "2. Some doors (like rear exits) may lack APC sensors, undercounting deboarding events.\n",
            "3. Sensor malfunction or calibration issues may over-record boardings or under-record exits.\n"
          ]
        }
      ]
    }
  ]
}